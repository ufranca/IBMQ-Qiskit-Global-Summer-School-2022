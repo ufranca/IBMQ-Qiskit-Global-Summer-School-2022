{
 "cells": [
  {
   "cell_type": "markdown",
   "id": "852ab4ac-e501-4694-bf67-90cd4122140e",
   "metadata": {},
   "source": [
    "# 1 Introduction\n",
    "\n",
    "### 1-1 Quantum Simulation\n",
    "One of the leading uses for quantum computers will be to simulate quantum systems such as molecules or engineered materials. Actually executing a quantum simulation on a current quantum computer, however, can be difficult and error prone. Your objective for this lab is to complete the exercises and then improve on them to get the highest state tomography score (more details in Section 2).\n",
    "\n",
    "The quantum system you will simulate is a quantum spin-1/2 model, where each qubit represents a quantum [spin-1/2](https://en.wikipedia.org/wiki/Spin-1/2) particle in a 1D chain. Quantum spin models have some amazing properties and uses. Computationally speaking, [certain optimization problems can be mapped](https://arxiv.org/pdf/1712.05771.pdf) to spin models and hence minimized on a quantum computer. Physically speaking, spin models show a variety of quantum behavior such as large entangled states, quantum phases of matter, quantum many-body affects, and many other open questions in physics research.\n",
    "\n",
    "There are many different spin models, but we will focus on the [$XXX$ Heisenberg spin model](https://en.wikipedia.org/wiki/Quantum_Heisenberg_model#XXX_model). Though it is not as well known as the [transverse-field Ising model](https://en.wikipedia.org/wiki/Transverse-field_Ising_model), the $XXX$ Heisenberg model is of practical and theoretical interest. It can also be difficult to simulate, which is where you come in.\n",
    "\n",
    "The notebook is organized as follows:\n",
    "1) Section 1 (labeled 1-X) provides you with brief introductions to the $XXX$ Heisenberg model, time evolving a Hamiltonian, and decomposing a time evolution operator into gates for a quantum computer to execute.\n",
    "2) Section 2 (labeled 2-X) outlines the specific requirements and boundaries associated with completing the exercises and competing for the best score. Completing the exercises will give you an example solution. Once you've completed the exercises, feel free to modify your answers to get the best score."
   ]
  },
  {
   "cell_type": "code",
   "execution_count": 1,
   "id": "d1548b05-e691-40a5-8b35-c0eaa87a2a72",
   "metadata": {},
   "outputs": [],
   "source": [
    "import numpy as np\n",
    "import matplotlib.pyplot as plt\n",
    "plt.rcParams.update({'font.size': 16})  # enlarge matplotlib fonts\n",
    "\n",
    "# Import qubit states Zero (|0>) and One (|1>), Pauli operators (X, Y, Z), and the identity operator (I)\n",
    "from qiskit.opflow import Zero, One, X, Y, Z, I"
   ]
  },
  {
   "cell_type": "markdown",
   "id": "c764af20-017f-4209-9483-4f89f10cb562",
   "metadata": {},
   "source": [
    "### 1-2 The $XXX$ Heisenberg Spin Model\n",
    "\n",
    "To simulate a quantum system, we first need to define how the quantum particles that make up the system interact with each other. In quantum physics, this is done by defining a [Hamiltonian operator](https://en.wikipedia.org/wiki/Hamiltonian_(quantum_mechanics)). For this lab, you will work with the $XXX$ Heisenberg Hamiltonian $H_{\\text{Heis}}$ as defined below\n",
    "\n",
    "$$\n",
    "H_{\\text{Heis}} = \\sum_{\\langle ij \\rangle}^{N} J \\left(\\sigma_x^{(i)}\\sigma_x^{(j)} + \\sigma_y^{(i)}\\sigma_y^{(j)} + \\sigma_z^{(i)}\\sigma_z^{(j)}\\right).\n",
    "$$\n",
    "\n",
    "$N$ is the number of spin-1/2 particles in model. The operators $\\sigma_x$, $\\sigma_y$, and $\\sigma_z$ are [Pauli operators](https://en.wikipedia.org/wiki/Pauli_matrices) where the $i$ and $j$ superscripts label which qubit they act on. For example, $\\sigma_x^{(1)}$ would be the $\\sigma_x$ operator acting on only qubit 1 (which is the 2nd qubit since indexing starts at 0). This version of the general Heisenberg spin model is called $XXX$ because the same $J$ value multiplies each pair of Pauli operators. The sum notation $\\langle ij \\rangle$ means the sum is over nearest neighbors (only qubits next to each other interact), and $J$ is the interaction strength, which we will set $J=1$.\n",
    "\n",
    "You will work with the explicit case of $N=3$ with the 3 spins arranged in a line. Written out fully, the Hamiltonian is\n",
    "$$\n",
    "H_{\\text{Heis3}} = \\sigma_x^{(0)}\\sigma_x^{(1)} + \\sigma_x^{(1)}\\sigma_x^{(2)} + \\sigma_y^{(0)}\\sigma_y^{(1)} + \\sigma_y^{(1)}\\sigma_y^{(2)} + \\sigma_z^{(0)}\\sigma_z^{(1)} + \\sigma_z^{(1)}\\sigma_z^{(2)}.\n",
    "$$\n",
    "Now that we have a Hamiltonian ($H_{\\text{Heis3}}$), we can use it to determine how the quantum system of 3 spin-1/2 particles changes in time."
   ]
  },
  {
   "cell_type": "markdown",
   "id": "2f542549-8c62-430f-bd05-26c0d0407d20",
   "metadata": {},
   "source": [
    "### 1-3 Using OpFlow\n",
    "Qiskit offers [functionality for mathematically working with quantum states and operators](https://qiskit.org/documentation/apidoc/opflow.html) called ```opflow``` with tutorials found [here](https://qiskit.org/documentation/tutorials/operators/index.html). Opflow is especially convenient when dealing with large numbers of qubits as tensor products can become unwieldy when using numpy both in size and syntax. Your first exercise is to write the above Hamiltonian $H_{\\text{Heis3}}$ in opflow."
   ]
  },
  {
   "cell_type": "code",
   "execution_count": 2,
   "id": "e6d371fd-f5c4-446a-83f4-ac7593fdcee1",
   "metadata": {},
   "outputs": [],
   "source": [
    "# Returns the XXX Heisenberg model for 3 spin-1/2 particles in a line\n",
    "def ex1_compute_H_heis3():\n",
    "    # FILL YOUR CODE IN HERE\n",
    "    XXs = (I^X^X) + (X^X^I)\n",
    "    YYs = (I^Y^Y) + (Y^Y^I)\n",
    "    ZZs = (I^Z^Z) + (Z^Z^I)\n",
    "    \n",
    "    # Sum interactions\n",
    "    H = XXs + YYs + ZZs\n",
    "    \n",
    "    # Return Hamiltonian\n",
    "    return H"
   ]
  },
  {
   "cell_type": "code",
   "execution_count": 3,
   "id": "42853d81-cd9c-4b9a-9f92-1b42e28a7d74",
   "metadata": {},
   "outputs": [
    {
     "name": "stdout",
     "output_type": "stream",
     "text": [
      "Submitting your answer. Please wait...\n",
      "Congratulations 🎉! Your answer is correct and has been submitted.\n"
     ]
    }
   ],
   "source": [
    "from qc_grader.challenges.qgss_2022 import grade_lab4_ex1\n",
    "\n",
    "# The grading function is expecting a PauliSumOp operator\n",
    "grade_lab4_ex1(ex1_compute_H_heis3())"
   ]
  },
  {
   "cell_type": "markdown",
   "id": "35323a1f-9aac-493a-87a8-116c3b7980ca",
   "metadata": {},
   "source": [
    "### 1-4 Time Evolution\n",
    "\n",
    "Knowing the Hamiltonian, we can determine how quantum states of that system evolve in time by solving the [Schrödinger equation](https://en.wikipedia.org/wiki/Schrödinger_equation)\n",
    "$$\n",
    "i\\hbar \\dfrac{d}{dt}|\\psi(t)\\rangle = H |\\psi(t)\\rangle .\n",
    "$$\n",
    "\n",
    "For simplicity, let's set $\\hbar = 1$. We know that the Hamiltonian $H_{\\text{heis3}}$ does not change in time, so the solution to the Schrödinger equation is an exponential of the Hamiltonian operator\n",
    "$$\n",
    "\\begin{align}\n",
    "U_{\\text{Heis3}}(t) &= e^{-it H_\\text{Heis3}} = \\exp\\left(-it H_\\text{Heis3}\\right) \\\\\n",
    "U_{\\text{Heis3}}(t) &= \\exp\\left[-it \\sum_{\\langle ij \\rangle}^{N=3} \\left(\\sigma_x^{(i)}\\sigma_x^{(j)} + \\sigma_y^{(i)}\\sigma_y^{(j)} + \\sigma_z^{(i)}\\sigma_z^{(j)}\\right) \\right] \\\\\n",
    "U_{\\text{Heis3}}(t) &= \\exp\\left[-it \\left(\\sigma_x^{(0)}\\sigma_x^{(1)} + \\sigma_x^{(1)}\\sigma_x^{(2)} + \\sigma_y^{(0)}\\sigma_y^{(1)} + \\sigma_y^{(1)}\\sigma_y^{(2)} + \\sigma_z^{(0)}\\sigma_z^{(1)} + \\sigma_z^{(1)}\\sigma_z^{(2)}\\right) \\right]\n",
    "\\end{align}\n",
    "$$.\n",
    "\n",
    "Now that we have the time evolution operator $U_{\\text{Heis3}}(t)$, we can simulate changes in a state of the system ($|\\psi(t)\\rangle$) over time $|\\psi(t)\\rangle = U_{\\text{Heis3}}(t)|\\psi(t=0)\\rangle$.\n",
    "\n",
    "Using opflow methods again, your second exercise is to compute the unitary time evolution under the Hamiltonian you constructed from exercise 1 for a given time t."
   ]
  },
  {
   "cell_type": "code",
   "execution_count": 4,
   "id": "ccdedbc8-f335-468c-9db5-b594aa2e50bd",
   "metadata": {},
   "outputs": [],
   "source": [
    "# Returns the time evolution operator U_heis3(t) for a given time t assuming an XXX Heisenberg Hamiltonian for 3 spins-1/2 particles in a line\n",
    "def ex2_compute_U_heis3(t):\n",
    "    # FILL YOUR CODE IN HERE\n",
    "    H =  ex1_compute_H_heis3()\n",
    "    \n",
    "    U = (t*H).exp_i()\n",
    "    \n",
    "    return U"
   ]
  },
  {
   "cell_type": "code",
   "execution_count": 5,
   "id": "c137a5b7-4d20-4bb9-85ca-8daa5cfe2367",
   "metadata": {},
   "outputs": [
    {
     "name": "stdout",
     "output_type": "stream",
     "text": [
      "Submitting your answer. Please wait...\n",
      "Congratulations 🎉! Your answer is correct and has been submitted.\n"
     ]
    }
   ],
   "source": [
    "from qc_grader.challenges.qgss_2022 import grade_lab4_ex2\n",
    "\n",
    "# The grading function is expecting a funtion that returns PauliSumOp operator\n",
    "grade_lab4_ex2(ex2_compute_U_heis3)"
   ]
  },
  {
   "cell_type": "markdown",
   "id": "1668a459-1c19-4769-9263-ff0d8de330af",
   "metadata": {},
   "source": [
    "### 1-5 Classical Simulation of $H_{\\text{Heis3}}$\n",
    "\n",
    "Now that we have the operator $U_{\\text{Heis3}}(t)$ which describes how any state of the quantum system changes in time, we can simulate the $XXX$ Heisenberg spin model! Just for fun, let's simulate the system using a classical computer first.\n",
    "\n",
    "(Fun fact: Notice the size of $U_{\\text{Heis3}}(t)$ in matrix form. It's represented by an $8$x$8$ matrix. This is because there are $2^3=8$ states in the $N=3$ system. If the simulation were of $50$ particles ($N=50$), $U_{\\text{Heis}}(t)$ would be approximately $10^{15}$x$10^{15}$! Well beyond the capacity of today's computers.)"
   ]
  },
  {
   "cell_type": "code",
   "execution_count": 6,
   "id": "0813fede-9945-4477-9304-9f9891ce50a7",
   "metadata": {},
   "outputs": [
    {
     "data": {
      "image/png": "[encoded data removed]",
      "text/plain": [
       "<Figure size 432x288 with 1 Axes>"
      ]
     },
     "metadata": {
      "needs_background": "light"
     },
     "output_type": "display_data"
    }
   ],
   "source": [
    "# Define array of time points\n",
    "ts = np.linspace(0, np.pi, 100)\n",
    "\n",
    "# Define initial state |110>\n",
    "initial_state = One^One^Zero\n",
    "\n",
    "# Compute probability of remaining in |110> state over the array of time points\n",
    " # ~initial_state gives the bra of the initial state (<110|)\n",
    " # @ is short hand for matrix multiplication\n",
    " # ex2_compute_U_heis3(t) is the unitary time evolution at time t\n",
    " # t needs to be wrapped with float(t) to avoid a bug\n",
    " # (...).eval() returns the inner product <110|ex2_compute_U_heis3(t)|110>\n",
    " #  np.abs(...)**2 is the modulus squared of the innner product which is the expectation value, or probability, of remaining in |110>\n",
    "probs_110 = [np.abs((~initial_state @ ex2_compute_U_heis3(float(t)) @ initial_state).eval())**2 for t in ts]\n",
    "\n",
    "# Plot evolution of |110>\n",
    "plt.plot(ts, probs_110, linewidth=2)\n",
    "plt.xlabel('time')\n",
    "plt.ylabel(r'probability of state $|110\\rangle$')\n",
    "plt.title(r'Evolution of state $|110\\rangle$ under $H_{Heis3}$')\n",
    "plt.ylim([-0.05,1.05])\n",
    "plt.grid()\n",
    "plt.show()"
   ]
  },
  {
   "cell_type": "markdown",
   "id": "04db5341-8ba0-433b-b671-d929aba1fbe0",
   "metadata": {},
   "source": [
    "### 1-6 Decomposition of $U_{\\text{Heis3}}(t)$ Into Quantum Gates\n",
    "\n",
    "To execute $U_{\\text{Heis3}}(t)$ on a [circuit model](https://qiskit.org/documentation/apidoc/circuit.html) quantum computer, we must decompose $U_{\\text{Heis3}}(t)$ into a product of single and two-qubit gates that are native to that quantum computer. There are a [variety of techniques](https://en.wikipedia.org/wiki/Hamiltonian_simulation) to do this. For this lab, you will only use [Trotterization](https://en.wikipedia.org/wiki/Hamiltonian_simulation#Product_Formulas) (which is sometimes referred to as the Suzuki-Trotterization decomposition, Trotter formulas, product formulas, and other names).\n",
    "\n",
    "Below, we show an example Trotterization as outlined in \\[1-2\\].\n",
    "\n",
    "Since the [Pauli operators do not commute](https://en.wikipedia.org/wiki/Pauli_matrices#Commutation_relations) with each other, the exponential $U_{\\text{Heis3}}(t)$ cannot be split into a product of simpler exponentials. However, we can approximate $U_{\\text{Heis3}}(t)$ as a product of simpler exponentials through Trotterization. Consider a subsystem of 2 spin-1/2 particles within the larger 3 spin system. The Hamiltonian on spins $i$ and $j$ ($i,j \\in \\{0,1,2\\}$) would be $H^{(i,j)}_{\\text{Heis2}} = \\sigma_x^{(i)}\\sigma_x^{(j)} + \\sigma_y^{(i)}\\sigma_y^{(j)} + \\sigma_z^{(i)}\\sigma_z^{(j)}$. Rewriting $U_{\\text{Heis3}}(t)$ in terms of the two possible subsystems within the total $N=3$ system you will simulate,\n",
    "\n",
    "$$\n",
    "U_{\\text{Heis3}}(t) = \\exp\\left[-i t \\left(H^{(0,1)}_{\\text{Heis2}} + H^{(1,2)}_{\\text{Heis2}} \\right)\\right].\n",
    "$$\n",
    "\n",
    "$H^{(0,1)}_{\\text{Heis2}}$ and $H^{(1,2)}_{\\text{Heis2}}$ do not commute, so $U_{\\text{Heis3}}(t) \\neq \\exp\\left(-i t H^{(0,1)}_{\\text{Heis2}}\\right) \\exp\\left(-i t H^{(1,2)}_{\\text{Heis2}} \\right)$. But, this product decomposition can be approximated with Trotterization which says $U_{\\text{Heis3}}(t)$ is approximately a short evolution of $H^{(0,1)}_{\\text{Heis2}}$ (time = $t/n$) and followed by a short evolution of $H^{(1,2)}_{\\text{Heis2}}$ (time = $t/n$) repeated $n$ times\n",
    "\n",
    "$$\n",
    "\\begin{align}\n",
    "U_{\\text{Heis3}}(t) &= \\exp\\left[-i t \\left(H^{(0,1)}_{\\text{Heis2}} + H^{(1,2)}_{\\text{Heis2}} \\right)\\right] \\\\\n",
    "U_{\\text{Heis3}}(t) &\\approx \\left[\\exp\\left(\\dfrac{-it}{n}H^{(0,1)}_{\\text{Heis2}}\\right) \\exp\\left(\\dfrac{-it}{n}H^{(1,2)}_{\\text{Heis2}} \\right)\\right]^n.\n",
    "\\end{align}\n",
    "$$\n",
    "\n",
    "$n$ is the number of Trotter steps, and as $n$ increases, the approximation becomes more accurate. (Note that how a unitary is split up into subsystems for Trotterization is not necessarily unique.) The decomposition goes further. Within each 2 spin subsystems, the Pauli operator pairs ($\\sigma_x^{(i)}\\sigma_x^{(j)}$, $\\sigma_y^{(i)}\\sigma_y^{(j)}$, and $\\sigma_z^{(i)}\\sigma_z^{(j)}$) commute. This means we can decompose the exponential of a subsystem Hamiltonian ($H^{(i,j)}_{\\text{Heis2}}$) into a product of even simpler exponentials getting us closer to a gate implementation of $U_{\\text{Heis3}}(t)$\n",
    "\n",
    "$$\n",
    "\\begin{align}\n",
    "U_{\\text{Heis3}}(t) &\\approx \\left[\\exp\\left(\\dfrac{-it}{n}H^{(0,1)}_{\\text{Heis2}}\\right) \\exp\\left(\\dfrac{-it}{n}H^{(1,2)}_{\\text{Heis2}} \\right)\\right]^n \\\\\n",
    "U_{\\text{Heis3}}(t) &\\approx \\left[\\exp\\left(\\dfrac{-it}{n}\\left(\\sigma_x^{(0)}\\sigma_x^{(1)} + \\sigma_y^{(0)}\\sigma_y^{(1)} + \\sigma_z^{(0)}\\sigma_z^{(1)}\\right)\\right) \\exp\\left(\\dfrac{-it}{n}\\left(\\sigma_x^{(1)}\\sigma_x^{(2)} + \\sigma_y^{(1)}\\sigma_y^{(2)} + \\sigma_z^{(1)}\\sigma_z^{(2)}\\right)\\right)\\right]^{n} \\\\\n",
    "U_{\\text{Heis3}}(t) &\\approx \\left[\\exp\\left(\\dfrac{-it}{n}\\sigma_x^{(0)}\\sigma_x^{(1)}\\right) \\exp\\left(\\dfrac{-it}{n}\\sigma_y^{(0)}\\sigma_y^{(1)}\\right) \\exp\\left(\\dfrac{-it}{n}\\sigma_z^{(0)}\\sigma_z^{(1)}\\right) \\exp\\left(\\dfrac{-it}{n}\\sigma_x^{(1)}\\sigma_x^{(2)}\\right) \\exp\\left(\\dfrac{-it}{n}\\sigma_y^{(1)}\\sigma_y^{(2)}\\right) \\exp\\left(\\dfrac{-it}{n}\\sigma_z^{(1)}\\sigma_z^{(2)}\\right)\\right]^{n}\n",
    "\\end{align}\n",
    "$$\n",
    "\n",
    "For simplicity, and to use more common notation, let's rename the products with $XX(2t) = \\exp\\left(-it \\sigma_x\\sigma_x\\right)$, $YY(2t) = \\exp\\left(-it \\sigma_y\\sigma_y\\right)$, and $ZZ(2t) = \\exp\\left(-it \\sigma_z\\sigma_z\\right)$ and rewrite the Trotterized $U_{\\text{Heis3}}(t)$\n",
    "$$\n",
    "U_{\\text{Heis3}}(t) \\approx \\left[XX\\left(\\frac{2t}{n}\\right)^{(0,1)} YY\\left(\\frac{2t}{n}\\right)^{(0,1)} ZZ\\left(\\frac{2t}{n}\\right)^{(0,1)} XX\\left(\\frac{2t}{n}\\right)^{(1,2)} YY\\left(\\frac{2t}{n}\\right)^{(1,2)} ZZ\\left(\\frac{2t}{n}\\right)^{(1,2)} \\right]^{n}\n",
    "$$\n",
    "And that's it! We have now approximately decomposed $U_{\\text{Heis3}}(t)$ into two-qubit gates $XX(t)$, $YY(t)$, and $ZZ(t)$. Note that these gates are not native to superconducting qubits, but in Section 2, they will be further decomposed into native single and two-qubit gates.\n",
    "\n",
    "\n",
    "\\[1\\] Y. Salathe, et al., *Digital Quantum Simulation of Spin Models with Circuit Quantum Electrodynamics*, [Phys. Rev. X **5**, 021027 (2015)](https://link.aps.org/doi/10.1103/PhysRevX.5.021027)\n",
    "\n",
    "\\[2\\] F. Tacchino, et al., *Quantum Computers as Universal Quantum Simulators: State-of-the-Art and Perspectives*, [Adv. Quantum Technol. *3* 3 (2020)](https://doi.org/10.1002/qute.201900052) \\[[free arXiv version](https://arxiv.org/abs/1907.03505)\\]\n"
   ]
  },
  {
   "cell_type": "markdown",
   "id": "509e3761-6196-4b8f-aa5d-434bf1070eeb",
   "metadata": {},
   "source": [
    "# 2 Contest: Optimal Time Evolution\n",
    "### 2-1 Contest Details\n",
    "For this lab, we will have a fun, no pressure contest to get the best quantum simulation. Below is an outline of contest guidelines.\n",
    "\n",
    "You are to time evolve the state $|110\\rangle$ to time $t=\\pi$ under the $XXX$ Heisenberg model Hamiltonian $H_{\\text{heis3}}$ as defined in Section 1. This will be done on the ibmq_manila quantum computer and noisy simulator. The qubits in the state $|110\\rangle$ could correspond to any three qubits of ibmq_manila. The evolution must be done using Trotterization with at least 4 steps ($n\\geq 4$). You will compete based on the fidelity of the evolved state at time $t=\\pi$ using [state tomography](https://qiskit.org/documentation/tutorials/noise/8_tomography.html). State tomography is a way of determining the exact quantum state--even phase information--at the end of a quantum circuit by running the circuit multiple times and measuring in different bases. The closer your final quantum state to the expected state, the higher the fidelity. As you work on your solution, other important elements to consider are clarity of your code and how many different techniques you can learn and bring together. This is a great time to practice a variety of skills. Ibmq_manila's remaining two qubits will not be evaluated by the state tomography calculation, so you may use them as you wish. You do not need to follow the same decomposition given in the example above, but your solution must be a Trotterization of $U_{\\text{heis3}}(t)$ with at least 4 steps ($n\\geq 4$). You will find it useful to implement ideas and techniques you learned during this summer school that reduce errors and improve qubit coherence."
   ]
  },
  {
   "cell_type": "markdown",
   "id": "c794b8f1-6de7-497b-a000-0b37f9d094b3",
   "metadata": {},
   "source": [
    "### 2-2 Import Qiskit\n",
    "\n",
    "Feel free to import packages as needed. However, please keep to free packages and those obtained through ```pip install``` or ```conda install```."
   ]
  },
  {
   "cell_type": "code",
   "execution_count": 7,
   "id": "5bbf04aa-42d3-4831-8f0f-527c4a60fc20",
   "metadata": {},
   "outputs": [
    {
     "name": "stdout",
     "output_type": "stream",
     "text": [
      "Requirement already satisfied: qiskit.ignis in /opt/conda/lib/python3.8/site-packages (0.7.1)\n",
      "Requirement already satisfied: scipy!=0.19.1,>=0.19 in /opt/conda/lib/python3.8/site-packages (from qiskit.ignis) (1.8.0)\n",
      "Requirement already satisfied: qiskit-terra>=0.15.1 in /opt/conda/lib/python3.8/site-packages (from qiskit.ignis) (0.21.0)\n",
      "Requirement already satisfied: numpy>=1.13 in /opt/conda/lib/python3.8/site-packages (from qiskit.ignis) (1.22.4)\n",
      "Requirement already satisfied: retworkx>=0.8.0 in /opt/conda/lib/python3.8/site-packages (from qiskit.ignis) (0.11.0)\n",
      "Requirement already satisfied: setuptools>=40.1.0 in /opt/conda/lib/python3.8/site-packages (from qiskit.ignis) (61.2.0)\n",
      "Requirement already satisfied: ply>=3.10 in /opt/conda/lib/python3.8/site-packages (from qiskit-terra>=0.15.1->qiskit.ignis) (3.11)\n",
      "Requirement already satisfied: python-dateutil>=2.8.0 in /opt/conda/lib/python3.8/site-packages (from qiskit-terra>=0.15.1->qiskit.ignis) (2.8.2)\n",
      "Requirement already satisfied: stevedore>=3.0.0 in /opt/conda/lib/python3.8/site-packages (from qiskit-terra>=0.15.1->qiskit.ignis) (3.5.0)\n",
      "Requirement already satisfied: symengine>=0.9 in /opt/conda/lib/python3.8/site-packages (from qiskit-terra>=0.15.1->qiskit.ignis) (0.9.2)\n",
      "Requirement already satisfied: psutil>=5 in /opt/conda/lib/python3.8/site-packages (from qiskit-terra>=0.15.1->qiskit.ignis) (5.9.0)\n",
      "Requirement already satisfied: dill>=0.3 in /opt/conda/lib/python3.8/site-packages (from qiskit-terra>=0.15.1->qiskit.ignis) (0.3.4)\n",
      "Requirement already satisfied: sympy>=1.3 in /opt/conda/lib/python3.8/site-packages (from qiskit-terra>=0.15.1->qiskit.ignis) (1.10.1)\n",
      "Requirement already satisfied: tweedledum<2.0,>=1.1 in /opt/conda/lib/python3.8/site-packages (from qiskit-terra>=0.15.1->qiskit.ignis) (1.1.1)\n",
      "Requirement already satisfied: six>=1.5 in /opt/conda/lib/python3.8/site-packages (from python-dateutil>=2.8.0->qiskit-terra>=0.15.1->qiskit.ignis) (1.16.0)\n",
      "Requirement already satisfied: pbr!=2.1.0,>=2.0.0 in /opt/conda/lib/python3.8/site-packages (from stevedore>=3.0.0->qiskit-terra>=0.15.1->qiskit.ignis) (5.8.1)\n",
      "Requirement already satisfied: mpmath>=0.19 in /opt/conda/lib/python3.8/site-packages (from sympy>=1.3->qiskit-terra>=0.15.1->qiskit.ignis) (1.2.1)\n"
     ]
    }
   ],
   "source": [
    "!pip install qiskit.ignis\n"
   ]
  },
  {
   "cell_type": "code",
   "execution_count": 8,
   "id": "8b3e598e-1156-4263-abc6-890e554cf4fb",
   "metadata": {},
   "outputs": [],
   "source": [
    "# Importing standard Qiskit modules\n",
    "from qiskit import QuantumCircuit, QuantumRegister, IBMQ, execute, transpile\n",
    "from qiskit.providers.aer import QasmSimulator\n",
    "from qiskit.tools.monitor import job_monitor\n",
    "from qiskit.circuit import Parameter\n",
    "\n",
    "# Import state tomography modules\n",
    "from qiskit.ignis.verification.tomography import state_tomography_circuits, StateTomographyFitter\n",
    "#from qiskit_experiments.verification.tomography import state_tomography_circuits, StateTomographyFitter\n",
    "\n",
    "from qiskit.quantum_info import state_fidelity"
   ]
  },
  {
   "cell_type": "markdown",
   "id": "900d2ab8-b568-4d28-87d8-473962fdc998",
   "metadata": {},
   "source": [
    "### 2-3 Quantum Devices\n",
    "Connect to IBM provider and connect to a real or simulated backend. Final submissions must be run on a real backend, but simulated devices are faster for debugging and testing."
   ]
  },
  {
   "cell_type": "code",
   "execution_count": 9,
   "id": "7345d1e9-4803-4bd8-a578-0af5294cb22a",
   "metadata": {},
   "outputs": [],
   "source": [
    "# load IBMQ Account data\n",
    "\n",
    "# IBMQ.save_account(TOKEN)  # replace TOKEN with your API token string (https://quantum-computing.ibm.com/lab/docs/iql/manage/account/ibmq)\n",
    "provider = IBMQ.load_account()"
   ]
  },
  {
   "cell_type": "code",
   "execution_count": 10,
   "id": "78e0af5d-6da9-4a08-912a-5a172535e03b",
   "metadata": {},
   "outputs": [],
   "source": [
    "# Get backend for experiment\n",
    "provider = IBMQ.get_provider(hub='ibm-q')\n",
    "manila = provider.get_backend('ibmq_manila')\n",
    "# properties = manila.properties()\n",
    "\n",
    "# Simulated backend based on ibmq_manila's device noise profile\n",
    "sim_noisy_manila = QasmSimulator.from_backend(provider.get_backend('ibmq_manila'))\n",
    "\n",
    "# Noiseless simulated backend\n",
    "sim = QasmSimulator()"
   ]
  },
  {
   "cell_type": "markdown",
   "id": "d4e8a24c-5846-4de9-95ea-3033653c4037",
   "metadata": {},
   "source": [
    "### 2-4 Decomposition of $U_{\\text{Heis3}}(t)$ into Quantum Gates (Example)\n",
    "\n",
    "The following circuit code is written based on the example given in Section 1. This is where you write your solution.\n",
    "\n",
    "YOUR TROTTERIZATION GOES HERE -- START (beginning of example)"
   ]
  },
  {
   "cell_type": "code",
   "execution_count": 11,
   "id": "9156980e-d3a7-4494-8ad4-7ec15ca92e7f",
   "metadata": {},
   "outputs": [],
   "source": [
    "# Parameterize variable t to be evaluated at t=pi later\n",
    "t = Parameter('t')"
   ]
  },
  {
   "cell_type": "code",
   "execution_count": 12,
   "id": "ec328a9f-809c-49d6-8400-fa09579c1d8c",
   "metadata": {},
   "outputs": [],
   "source": [
    "# Build a subcircuit for XX(t) two-qubit gate\n",
    "def compute_XX_gate(t):\n",
    "    XX_qr = QuantumRegister(2)\n",
    "    XX_qc = QuantumCircuit(XX_qr, name='XX')\n",
    "\n",
    "    XX_qc.ry(np.pi/2,[0,1])\n",
    "    XX_qc.cnot(0,1)\n",
    "    XX_qc.rz(2 * t, 1)\n",
    "    XX_qc.cnot(0,1)\n",
    "    XX_qc.ry(-np.pi/2,[0,1])\n",
    "\n",
    "    # Convert custom quantum circuit into a gate\n",
    "    XX = XX_qc.to_instruction()\n",
    "    \n",
    "    return XX"
   ]
  },
  {
   "cell_type": "code",
   "execution_count": 13,
   "id": "52977709-1b68-4ebf-98de-dc5c88265acb",
   "metadata": {},
   "outputs": [],
   "source": [
    "# Build a subcircuit for YY(t) two-qubit gate\n",
    "def ex3_compute_YY_gate(t):\n",
    "    # FILL YOUR CODE IN HERE\n",
    "    YY_qr = QuantumRegister(2)\n",
    "    YY_qc = QuantumCircuit(YY_qr, name='YY')\n",
    "\n",
    "    YY_qc.rx(np.pi/2,[0,1])\n",
    "    YY_qc.cnot(0,1)\n",
    "    YY_qc.rz(2 * t, 1)\n",
    "    YY_qc.cnot(0,1)\n",
    "    YY_qc.rx(-np.pi/2,[0,1])\n",
    "\n",
    "    # Convert custom quantum circuit into a gate\n",
    "    YY = YY_qc.to_instruction()\n",
    "    \n",
    "    return YY"
   ]
  },
  {
   "cell_type": "code",
   "execution_count": 14,
   "id": "7fcb6c56-ae8c-4b09-829f-2b2204d688ba",
   "metadata": {},
   "outputs": [
    {
     "name": "stdout",
     "output_type": "stream",
     "text": [
      "Submitting your answer. Please wait...\n",
      "Congratulations 🎉! Your answer is correct and has been submitted.\n"
     ]
    }
   ],
   "source": [
    "from qc_grader.challenges.qgss_2022 import grade_lab4_ex3\n",
    "\n",
    "# The grading function is expecting an Instruction\n",
    "grade_lab4_ex3(ex3_compute_YY_gate(t))"
   ]
  },
  {
   "cell_type": "code",
   "execution_count": 15,
   "id": "4fd739df-0dc4-48ef-823e-230fb0c8fd64",
   "metadata": {},
   "outputs": [],
   "source": [
    "# Build a subcircuit for ZZ(t) two-qubit gate\n",
    "def ex4_compute_ZZ_gate(t):\n",
    "    # FILL YOUR CODE IN HERE\n",
    "    \n",
    "    ZZ_qr = QuantumRegister(2)\n",
    "    ZZ_qc = QuantumCircuit(ZZ_qr, name='ZZ')\n",
    "\n",
    "    ZZ_qc.cnot(0,1)\n",
    "    ZZ_qc.rz(2 * t, 1)\n",
    "    ZZ_qc.cnot(0,1)\n",
    "\n",
    "    # Convert custom quantum circuit into a gate\n",
    "    ZZ = ZZ_qc.to_instruction()\n",
    "    \n",
    "    return ZZ"
   ]
  },
  {
   "cell_type": "code",
   "execution_count": 16,
   "id": "bafb7448-8ced-4906-a3ee-c2175390e5c7",
   "metadata": {},
   "outputs": [
    {
     "name": "stdout",
     "output_type": "stream",
     "text": [
      "Submitting your answer. Please wait...\n",
      "Congratulations 🎉! Your answer is correct and has been submitted.\n"
     ]
    }
   ],
   "source": [
    "from qc_grader.challenges.qgss_2022 import grade_lab4_ex4\n",
    "\n",
    "# The grading function is expecting an Instruction\n",
    "grade_lab4_ex4(ex4_compute_ZZ_gate(t))"
   ]
  },
  {
   "cell_type": "markdown",
   "id": "4335d6d3-4a8e-4140-aad0-97b9b189905a",
   "metadata": {},
   "source": [
    "Combine subcircuits into single gate representing one ($n=1$) trotter step."
   ]
  },
  {
   "cell_type": "code",
   "execution_count": 17,
   "id": "8ef03f79-2c47-49da-93d5-0c0ae3ea5872",
   "metadata": {},
   "outputs": [],
   "source": [
    "# Combine subcircuits into a single multiqubit gate representing a single trotter step\n",
    "num_qubits = 3\n",
    "\n",
    "# Define two-qubit interactions Parameterized by t\n",
    "XX = compute_XX_gate(t)\n",
    "YY = ex3_compute_YY_gate(t)\n",
    "ZZ = ex4_compute_ZZ_gate(t)\n",
    "\n",
    "Trot_qr = QuantumRegister(num_qubits)\n",
    "Trot_qc = QuantumCircuit(Trot_qr, name='Trot')\n",
    "\n",
    "for i in range(0, num_qubits - 1):\n",
    "    Trot_qc.append(ZZ, [Trot_qr[i], Trot_qr[i+1]])\n",
    "    Trot_qc.append(YY, [Trot_qr[i], Trot_qr[i+1]])\n",
    "    Trot_qc.append(XX, [Trot_qr[i], Trot_qr[i+1]])\n",
    "\n",
    "# Convert custom quantum circuit into a gate\n",
    "Trot_gate = Trot_qc.to_instruction()"
   ]
  },
  {
   "cell_type": "markdown",
   "id": "b9fb21ba-a2ea-4595-ba76-a4cef87ea666",
   "metadata": {},
   "source": [
    "YOUR TROTTERIZATION GOES HERE -- FINISH (end of example)\n",
    "\n",
    "### 2-5 Trotterized Time Evolution\n",
    "\n",
    "Time evolve the state $|110\\rangle$ from $\\theta=0$ to $\\theta=\\pi$ under $H_{\\text{heis3}}$. Although manila has five qubits, only three of the qubits will be used for the state $|110\\rangle$. From left to right, the qubits in the state $|110\\rangle$ could correspond to any of the five qubits. State tomography will evaluate how well the quantum simulation matches to the expected state at $\\theta= \\pi$. (Note the two remaining qubits will not part of the state tomography calculation.)\n",
    "\n",
    "You choose how many trotter steps (```trotter_steps```) to take in the simulation, but it must be at least 4. The code below is written to be generic enough for you may add to it if necessary for your solution."
   ]
  },
  {
   "cell_type": "code",
   "execution_count": 18,
   "id": "765e6582-83aa-4228-bedd-8482575c4771",
   "metadata": {},
   "outputs": [],
   "source": [
    "# Setup experiment parameters\n",
    "\n",
    "# The final time of the state evolution\n",
    "target_time = np.pi  # DO NOT MODIFY\n",
    "\n",
    "# Number of trotter steps\n",
    "trotter_steps = 6  ### CAN BE >= 4\n",
    "\n",
    "# Select which qubits to use for the simulation\n",
    "q_regs = [0,1,2]"
   ]
  },
  {
   "cell_type": "code",
   "execution_count": 19,
   "id": "c6135540-dcea-4313-8ce8-0eb8e3ee23e7",
   "metadata": {},
   "outputs": [
    {
     "data": {
      "image/png": "[encoded data removed]",
      "text/plain": [
       "<Figure size 761.923x385.28 with 1 Axes>"
      ]
     },
     "execution_count": 19,
     "metadata": {},
     "output_type": "execute_result"
    }
   ],
   "source": [
    "# Initialize quantum circuit for 3 qubits\n",
    "qr = QuantumRegister(5)\n",
    "qc = QuantumCircuit(qr)\n",
    "\n",
    "# Prepare initial state (remember we are only evolving 3 of the 7 qubits on manila qubits (q_5, q_3, q_1) corresponding to the state |110>)\n",
    "qc.x([q_regs[2], q_regs[1]])  # For example this could be (q_regs=[2, 1, 0] which corresponds to => |110>)\n",
    "\n",
    "# Simulate time evolution under H_heis3 Hamiltonian\n",
    "for _ in range(trotter_steps):\n",
    "    qc.append(Trot_gate, q_regs)\n",
    "\n",
    "# Evaluate simulation at target_time (t=pi) meaning each trotter step evolves pi/trotter_steps in time\n",
    "qc = qc.bind_parameters({t: target_time/trotter_steps})\n",
    "#qc = transpile(qc, optimization_level=3, initial_layout=[qr[0], qr[1], qr[2]])\n",
    "\n",
    "#display(qc.draw())\n",
    "\n",
    "# Generate state tomography circuits to evaluate fidelity of simulation\n",
    "st_qcs = state_tomography_circuits(qc, q_regs)\n",
    "\n",
    "# Display circuit for confirmation\n",
    "# st_qcs[-1].decompose().draw()  # view decomposition of trotter gates\n",
    "st_qcs[-1].draw()  # only view trotter gates"
   ]
  },
  {
   "cell_type": "markdown",
   "id": "1742151c-1261-4b42-80a4-da2c0ad90ac5",
   "metadata": {},
   "source": [
    "### 2-6 Execute\n",
    "For your final submission, you will need to execute your solution on a real backend with four repetitions. For faster debugging, considering using a simulated backend and/or 1 repetition."
   ]
  },
  {
   "cell_type": "code",
   "execution_count": 20,
   "id": "79c3ef21-c143-418a-8b50-f0ab39c5ae35",
   "metadata": {},
   "outputs": [
    {
     "name": "stdout",
     "output_type": "stream",
     "text": [
      "Job ID f2b7f5e2-6fe4-45ab-9d1c-a94b01cddb6d\n",
      "Job ID 348ed6ab-5020-443f-b642-798e48ee01e0\n",
      "Job ID 4de7b305-6eca-4aef-8605-85764a6e8157\n",
      "Job ID 12658e89-e636-4855-8cc5-d8c9cc3a2b8d\n"
     ]
    }
   ],
   "source": [
    "shots = 8192\n",
    "reps = 4\n",
    "\n",
    "# Pick the simulated or real backend for manila\n",
    "#backend = sim  # Noiseless simulator\n",
    "backend = sim_noisy_manila  # Simulator that mimics ibmq_manila\n",
    "#backend = manila  # The real manila backend\n",
    "\n",
    "jobs = []\n",
    "for _ in range(reps):\n",
    "    # Execute\n",
    "    job = execute(st_qcs, backend, shots=shots)\n",
    "    print('Job ID', job.job_id())\n",
    "    jobs.append(job)"
   ]
  },
  {
   "cell_type": "markdown",
   "id": "be7acc76-86f0-4b1f-94e4-e4e1014f3956",
   "metadata": {},
   "source": [
    "We can monitor the status of the jobs using Qiskit's job monitoring tools."
   ]
  },
  {
   "cell_type": "code",
   "execution_count": 21,
   "id": "1b142880-af5b-4913-8f50-9248e5d1646f",
   "metadata": {},
   "outputs": [
    {
     "name": "stdout",
     "output_type": "stream",
     "text": [
      "Job Status: job has successfully run\n",
      "Job Status: job has successfully run\n",
      "Job Status: job has successfully run\n",
      "Job Status: job has successfully run\n"
     ]
    }
   ],
   "source": [
    "for job in jobs:\n",
    "    job_monitor(job)\n",
    "    try:\n",
    "        if job.error_message() is not None:\n",
    "            print(job.error_message())\n",
    "    except:\n",
    "        pass"
   ]
  },
  {
   "cell_type": "markdown",
   "id": "e4186e06-db3d-4d0d-aef4-51906f41df61",
   "metadata": {},
   "source": [
    "### 2-7 Results Analysis\n",
    "Extract the results for the completed jobs and compute the state tomography fidelity for each repetition. You may choose to include other post-processing analyses here as well."
   ]
  },
  {
   "cell_type": "code",
   "execution_count": 22,
   "id": "40590a69-735e-4e05-9a5d-95ab7af30c8d",
   "metadata": {},
   "outputs": [
    {
     "name": "stdout",
     "output_type": "stream",
     "text": [
      "Backend Noise + Sim\n"
     ]
    }
   ],
   "source": [
    "from qiskit.ignis.mitigation.measurement import complete_meas_cal, CompleteMeasFitter\n",
    "from qiskit.providers.aer.noise import NoiseModel\n",
    "from qiskit.compiler import assemble\n",
    "\n",
    "def calculate_meas_filter_noise_from_backend(backend):\n",
    "    '''\n",
    "    \n",
    "    Measurement error mitigation strategy based on a simple Pauli error model \n",
    "    assigning a probability p of an X bit flip defined on function `get_noise()`. \n",
    "    \n",
    "    Returns measurement filter to mitigate measurement errors applied to job results.\n",
    "    \n",
    "    \n",
    "    '''\n",
    "    qr = QuantumRegister(5)\n",
    "    qubit_list=[2,1,0]\n",
    "    meas_calibs, state_labels = complete_meas_cal(qubit_list=qubit_list, qr=qr, circlabel='mcal')\n",
    "    \n",
    "    ###################################\n",
    "    ## Noise model from Jakarta Backend\n",
    "    ##################################\n",
    "    if backend == sim:\n",
    "        noise_model = NoiseModel().from_backend(sim_noisy_manila)\n",
    "    else:\n",
    "        noise_model = NoiseModel().from_backend(backend)\n",
    "    \n",
    "    t_qc = transpile(meas_calibs, backend, basis_gates=noise_model.basis_gates, \n",
    "                     coupling_map=backend.configuration().coupling_map)\n",
    "    qobj = assemble(t_qc, shots=10000)\n",
    "    cal_results = backend.run(qobj, noise_model=noise_model,shots=10000).result()\n",
    "\n",
    "    meas_fitter = CompleteMeasFitter(cal_results, state_labels, circlabel='mcal')\n",
    "    print('Backend Noise + Sim')\n",
    "    #display(array_to_latex(meas_fitter.cal_matrix))\n",
    "    \n",
    "    # Get the filter object\n",
    "    meas_filter = meas_fitter.filter\n",
    "    \n",
    "\n",
    "    return meas_filter\n",
    "\n",
    "meas_filter = calculate_meas_filter_noise_from_backend(backend)"
   ]
  },
  {
   "cell_type": "code",
   "execution_count": 23,
   "id": "f87c0c22-1f37-4f56-9ec5-7e3c5d7a8384",
   "metadata": {},
   "outputs": [
    {
     "name": "stdout",
     "output_type": "stream",
     "text": [
      "================================================================================\n",
      "\n",
      " Unmitigated state tomography fidelity = 0.2805 ± 0.0013\n",
      "\n",
      " Mitigated state tomography fidelity = 0.2997 ± 0.0015\n",
      "================================================================================\n"
     ]
    }
   ],
   "source": [
    "# Compute the state tomography based on the st_qcs quantum circuits and the results from those ciricuits\n",
    "def state_tomo(result, st_qcs):\n",
    "    # The expected final state; necessary to determine state tomography fidelity\n",
    "    target_state = (One^One^Zero).to_matrix()  # DO NOT MODIFY\n",
    "    # Fit state tomography results\n",
    "    tomo_fitter = StateTomographyFitter(result, st_qcs)\n",
    "    rho_fit = tomo_fitter.fit(method='lstsq')\n",
    "    # Compute fidelity\n",
    "    fid = state_fidelity(rho_fit, target_state)\n",
    "    return fid\n",
    "\n",
    "# Compute tomography fidelities for each repetition\n",
    "fids = []\n",
    "fids_mitigated = []\n",
    "for job in jobs:\n",
    "    fid = state_tomo(job.result(), st_qcs)\n",
    "    fids.append(fid)\n",
    "    \n",
    "    job_mitigated_results = meas_filter.apply(job.result())\n",
    "    fid_m = state_tomo(job_mitigated_results, st_qcs) ## UF\n",
    "    fids_mitigated.append(fid_m)\n",
    "    \n",
    "    \n",
    "# # Share tomography fidelity of discord to compete and collaborate with other students\n",
    "# print('state tomography fidelity on ' + str(backend) + ' = {:.4f} \\u00B1 {:.4f}'.format(np.mean(fids), np.std(fids)))\n",
    "# # Share what lectures and techniques were useful in optimizing your results\n",
    "# print('Inspiration: Measurement error mitigation, Olivia Lanes\\'s 2nd lecture')\n",
    "\n",
    "print('='*80)    \n",
    "print('\\n Unmitigated state tomography fidelity = {:.4f} \\u00B1 {:.4f}'.format(np.mean(fids), \n",
    "                                                                               np.std(fids)))\n",
    "print('\\n Mitigated state tomography fidelity = {:.4f} \\u00B1 {:.4f}'.format(np.mean(fids_mitigated), \n",
    "                                                                             np.std(fids_mitigated)))\n",
    "print('='*80)\n"
   ]
  },
  {
   "cell_type": "code",
   "execution_count": 24,
   "id": "a7a0994c-f8bf-4613-8b1e-c78eb2864b8e",
   "metadata": {},
   "outputs": [
    {
     "data": {
      "text/html": [
       "<h3>Version Information</h3><table><tr><th>Qiskit Software</th><th>Version</th></tr><tr><td><code>qiskit-terra</code></td><td>0.21.0</td></tr><tr><td><code>qiskit-aer</code></td><td>0.10.4</td></tr><tr><td><code>qiskit-ignis</code></td><td>0.7.1</td></tr><tr><td><code>qiskit-ibmq-provider</code></td><td>0.19.2</td></tr><tr><td><code>qiskit</code></td><td>0.37.0</td></tr><tr><td><code>qiskit-nature</code></td><td>0.4.2</td></tr><tr><td><code>qiskit-finance</code></td><td>0.3.3</td></tr><tr><td><code>qiskit-optimization</code></td><td>0.4.0</td></tr><tr><td><code>qiskit-machine-learning</code></td><td>0.4.0</td></tr><tr><th>System information</th></tr><tr><td>Python version</td><td>3.8.13</td></tr><tr><td>Python compiler</td><td>GCC 10.3.0</td></tr><tr><td>Python build</td><td>default, Mar 25 2022 06:04:10</td></tr><tr><td>OS</td><td>Linux</td></tr><tr><td>CPUs</td><td>8</td></tr><tr><td>Memory (Gb)</td><td>31.211315155029297</td></tr><tr><td colspan='2'>Sun Jul 31 23:17:02 2022 UTC</td></tr></table>"
      ],
      "text/plain": [
       "<IPython.core.display.HTML object>"
      ]
     },
     "metadata": {},
     "output_type": "display_data"
    }
   ],
   "source": [
    "import qiskit.tools.jupyter\n",
    "%qiskit_version_table"
   ]
  },
  {
   "cell_type": "code",
   "execution_count": null,
   "id": "f0b2b0db-2df0-44cb-8d38-e7105b987a51",
   "metadata": {},
   "outputs": [],
   "source": []
  }
 ],
 "metadata": {
  "kernelspec": {
   "display_name": "Python 3 (ipykernel)",
   "language": "python",
   "name": "python3"
  },
  "language_info": {
   "codemirror_mode": {
    "name": "ipython",
    "version": 3
   },
   "file_extension": ".py",
   "mimetype": "text/x-python",
   "name": "python",
   "nbconvert_exporter": "python",
   "pygments_lexer": "ipython3",
   "version": "3.8.13"
  },
  "toc-autonumbering": false,
  "toc-showcode": false,
  "toc-showmarkdowntxt": false,
  "toc-showtags": false,
  "widgets": {
   "application/vnd.jupyter.widget-state+json": {
    "state": {
     "023ee30e25db4544be40f785455dcdfa": {
      "model_module": "@jupyter-widgets/base",
      "model_module_version": "1.2.0",
      "model_name": "LayoutModel",
      "state": {
       "width": "95px"
      }
     },
     "039d6970b8464a69954e8e6e92df641e": {
      "model_module": "@jupyter-widgets/controls",
      "model_module_version": "1.5.0",
      "model_name": "HTMLModel",
      "state": {
       "layout": "IPY_MODEL_09d4f878600447029635c58d2caa8e35",
       "style": "IPY_MODEL_f91a64c0a3a849b191ae562d5b47edb2",
       "value": "<h5>Job ID</h5>"
      }
     },
     "09d4f878600447029635c58d2caa8e35": {
      "model_module": "@jupyter-widgets/base",
      "model_module_version": "1.2.0",
      "model_name": "LayoutModel",
      "state": {
       "width": "190px"
      }
     },
     "0ac6b98c1a954e85a220cc7008c78294": {
      "model_module": "@jupyter-widgets/controls",
      "model_module_version": "1.5.0",
      "model_name": "ButtonStyleModel",
      "state": {}
     },
     "0cfbbf8dece245edbd95ebd5de984aab": {
      "model_module": "@jupyter-widgets/controls",
      "model_module_version": "1.5.0",
      "model_name": "DescriptionStyleModel",
      "state": {
       "description_width": ""
      }
     },
     "14ca0cdd78dc48df9645971096fb2c52": {
      "model_module": "@jupyter-widgets/controls",
      "model_module_version": "1.5.0",
      "model_name": "DescriptionStyleModel",
      "state": {
       "description_width": ""
      }
     },
     "2b837f65fb8645eb89126814014959f8": {
      "model_module": "@jupyter-widgets/base",
      "model_module_version": "1.2.0",
      "model_name": "LayoutModel",
      "state": {}
     },
     "52df6907dcab40c8b63ad4616ff581aa": {
      "model_module": "@jupyter-widgets/base",
      "model_module_version": "1.2.0",
      "model_name": "LayoutModel",
      "state": {
       "grid_template_areas": "\n                                       \". . . . right \"\n                                        ",
       "grid_template_columns": "20% 20% 20% 20% 20%",
       "width": "100%"
      }
     },
     "53a3f00ae1c04887bb2076c44c38e1ee": {
      "model_module": "@jupyter-widgets/controls",
      "model_module_version": "1.5.0",
      "model_name": "DescriptionStyleModel",
      "state": {
       "description_width": ""
      }
     },
     "67ae5592e79549e1883defe3c91f860a": {
      "model_module": "@jupyter-widgets/controls",
      "model_module_version": "1.5.0",
      "model_name": "DescriptionStyleModel",
      "state": {
       "description_width": ""
      }
     },
     "7a79be4112c24b82ac03abf7195a2053": {
      "model_module": "@jupyter-widgets/base",
      "model_module_version": "1.2.0",
      "model_name": "LayoutModel",
      "state": {
       "grid_area": "right",
       "padding": "0px 0px 0px 0px",
       "width": "70px"
      }
     },
     "7b0ca31c65094b1c8644984a185ec5ac": {
      "model_module": "@jupyter-widgets/controls",
      "model_module_version": "1.5.0",
      "model_name": "ButtonModel",
      "state": {
       "button_style": "primary",
       "description": "Clear",
       "layout": "IPY_MODEL_7a79be4112c24b82ac03abf7195a2053",
       "style": "IPY_MODEL_0ac6b98c1a954e85a220cc7008c78294"
      }
     },
     "7ec9c024992940f09abcd4a4579ce72b": {
      "model_module": "@jupyter-widgets/controls",
      "model_module_version": "1.5.0",
      "model_name": "GridBoxModel",
      "state": {
       "children": [
        "IPY_MODEL_7b0ca31c65094b1c8644984a185ec5ac"
       ],
       "layout": "IPY_MODEL_52df6907dcab40c8b63ad4616ff581aa"
      }
     },
     "87f05b6da16e40b983673091b3f63416": {
      "model_module": "@jupyter-widgets/controls",
      "model_module_version": "1.5.0",
      "model_name": "HTMLModel",
      "state": {
       "layout": "IPY_MODEL_a5f888e65ec84c3eaab0a9513dcec917",
       "style": "IPY_MODEL_14ca0cdd78dc48df9645971096fb2c52",
       "value": "<h5>Backend</h5>"
      }
     },
     "88ee17c5adc843808f3c2b576c16e336": {
      "model_module": "@jupyter-widgets/controls",
      "model_module_version": "1.5.0",
      "model_name": "HTMLModel",
      "state": {
       "layout": "IPY_MODEL_023ee30e25db4544be40f785455dcdfa",
       "style": "IPY_MODEL_53a3f00ae1c04887bb2076c44c38e1ee",
       "value": "<h5>Status</h5>"
      }
     },
     "8f88acf06d2f485494b79488017f4588": {
      "model_module": "@jupyter-widgets/controls",
      "model_module_version": "1.5.0",
      "model_name": "HTMLModel",
      "state": {
       "layout": "IPY_MODEL_edbefd8196e54984bc9278fb70222de1",
       "style": "IPY_MODEL_67ae5592e79549e1883defe3c91f860a",
       "value": "<h5>Queue</h5>"
      }
     },
     "a5f888e65ec84c3eaab0a9513dcec917": {
      "model_module": "@jupyter-widgets/base",
      "model_module_version": "1.2.0",
      "model_name": "LayoutModel",
      "state": {
       "width": "145px"
      }
     },
     "a728c421671b466c82625458e10046b4": {
      "model_module": "@jupyter-widgets/base",
      "model_module_version": "1.2.0",
      "model_name": "LayoutModel",
      "state": {
       "margin": "0px 0px 10px 0px"
      }
     },
     "ae94d8ebbbe349dea838c3db12c3dc7b": {
      "model_module": "@jupyter-widgets/base",
      "model_module_version": "1.2.0",
      "model_name": "LayoutModel",
      "state": {
       "margin": "0px 0px 0px 37px",
       "width": "600px"
      }
     },
     "aee3fab7b18c47bcb4b3bd2631e6461c": {
      "model_module": "@jupyter-widgets/controls",
      "model_module_version": "1.5.0",
      "model_name": "HTMLModel",
      "state": {
       "layout": "IPY_MODEL_a728c421671b466c82625458e10046b4",
       "style": "IPY_MODEL_fcfd4efc7e064e1ab75105c03f8504ad",
       "value": "<p style='font-family: IBM Plex Sans, Arial, Helvetica, sans-serif; font-size: 20px; font-weight: medium;'>Circuit Properties</p>"
      }
     },
     "bd2467bc0559411c937cc2f9f5862c70": {
      "model_module": "@jupyter-widgets/controls",
      "model_module_version": "1.5.0",
      "model_name": "HBoxModel",
      "state": {
       "children": [
        "IPY_MODEL_039d6970b8464a69954e8e6e92df641e",
        "IPY_MODEL_87f05b6da16e40b983673091b3f63416",
        "IPY_MODEL_88ee17c5adc843808f3c2b576c16e336",
        "IPY_MODEL_8f88acf06d2f485494b79488017f4588",
        "IPY_MODEL_d9c1d82e30d74984b61d4ae4a086269c"
       ],
       "layout": "IPY_MODEL_ae94d8ebbbe349dea838c3db12c3dc7b"
      }
     },
     "d9c1d82e30d74984b61d4ae4a086269c": {
      "model_module": "@jupyter-widgets/controls",
      "model_module_version": "1.5.0",
      "model_name": "HTMLModel",
      "state": {
       "layout": "IPY_MODEL_2b837f65fb8645eb89126814014959f8",
       "style": "IPY_MODEL_0cfbbf8dece245edbd95ebd5de984aab",
       "value": "<h5>Message</h5>"
      }
     },
     "edbefd8196e54984bc9278fb70222de1": {
      "model_module": "@jupyter-widgets/base",
      "model_module_version": "1.2.0",
      "model_name": "LayoutModel",
      "state": {
       "width": "70px"
      }
     },
     "f91a64c0a3a849b191ae562d5b47edb2": {
      "model_module": "@jupyter-widgets/controls",
      "model_module_version": "1.5.0",
      "model_name": "DescriptionStyleModel",
      "state": {
       "description_width": ""
      }
     },
     "fcfd4efc7e064e1ab75105c03f8504ad": {
      "model_module": "@jupyter-widgets/controls",
      "model_module_version": "1.5.0",
      "model_name": "DescriptionStyleModel",
      "state": {
       "description_width": ""
      }
     }
    },
    "version_major": 2,
    "version_minor": 0
   }
  }
 },
 "nbformat": 4,
 "nbformat_minor": 5
}
